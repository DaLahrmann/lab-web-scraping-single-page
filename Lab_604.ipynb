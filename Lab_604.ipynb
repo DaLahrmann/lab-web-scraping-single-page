{
 "cells": [
  {
   "cell_type": "code",
   "execution_count": 2,
   "metadata": {},
   "outputs": [],
   "source": [
    "import pandas as pd\n",
    "import spotipy\n",
    "from spotipy.oauth2 import SpotifyClientCredentials"
   ]
  },
  {
   "cell_type": "markdown",
   "metadata": {},
   "source": [
    "Getting Access to the spotify API"
   ]
  },
  {
   "cell_type": "code",
   "execution_count": 2,
   "metadata": {},
   "outputs": [],
   "source": [
    "secrets_file = open(\"../L.6.05/Spotify_Secret.txt\",\"r\")\n",
    "string = secrets_file.read()\n",
    "string.split('\\n')\n",
    "\n",
    "secrets_dict={}\n",
    "for line in string.split('\\n'):\n",
    "    if len(line) > 0:\n",
    "        secrets_dict[line.split(':')[0]]=line.split(':')[1]\n",
    "\n",
    "sp = spotipy.Spotify(auth_manager=SpotifyClientCredentials(client_id=secrets_dict['cid'],\n",
    "                                                           client_secret=secrets_dict['cs']))"
   ]
  },
  {
   "cell_type": "code",
   "execution_count": 3,
   "metadata": {},
   "outputs": [
    {
     "data": {
      "text/html": [
       "<div>\n",
       "<style scoped>\n",
       "    .dataframe tbody tr th:only-of-type {\n",
       "        vertical-align: middle;\n",
       "    }\n",
       "\n",
       "    .dataframe tbody tr th {\n",
       "        vertical-align: top;\n",
       "    }\n",
       "\n",
       "    .dataframe thead th {\n",
       "        text-align: right;\n",
       "    }\n",
       "</style>\n",
       "<table border=\"1\" class=\"dataframe\">\n",
       "  <thead>\n",
       "    <tr style=\"text-align: right;\">\n",
       "      <th></th>\n",
       "      <th>title</th>\n",
       "      <th>artist</th>\n",
       "      <th>entrance_year</th>\n",
       "      <th>genre</th>\n",
       "    </tr>\n",
       "  </thead>\n",
       "  <tbody>\n",
       "    <tr>\n",
       "      <th>0</th>\n",
       "      <td>Rock Around the Clock</td>\n",
       "      <td>Bill Haley &amp; his Comets</td>\n",
       "      <td>1955</td>\n",
       "      <td>top-100-songs</td>\n",
       "    </tr>\n",
       "    <tr>\n",
       "      <th>1</th>\n",
       "      <td>Sixteen Tons</td>\n",
       "      <td>Tennessee Ernie Ford</td>\n",
       "      <td>1955</td>\n",
       "      <td>top-100-songs</td>\n",
       "    </tr>\n",
       "    <tr>\n",
       "      <th>2</th>\n",
       "      <td>Cherry Pink &amp; Apple Blossom White</td>\n",
       "      <td>Perez Prado</td>\n",
       "      <td>1955</td>\n",
       "      <td>top-100-songs</td>\n",
       "    </tr>\n",
       "    <tr>\n",
       "      <th>3</th>\n",
       "      <td>Only You (And You Alone)</td>\n",
       "      <td>The Platters</td>\n",
       "      <td>1955</td>\n",
       "      <td>top-100-songs</td>\n",
       "    </tr>\n",
       "    <tr>\n",
       "      <th>4</th>\n",
       "      <td>Love is a Many Splendoured Thing</td>\n",
       "      <td>Four Aces</td>\n",
       "      <td>1955</td>\n",
       "      <td>top-100-songs</td>\n",
       "    </tr>\n",
       "    <tr>\n",
       "      <th>...</th>\n",
       "      <td>...</td>\n",
       "      <td>...</td>\n",
       "      <td>...</td>\n",
       "      <td>...</td>\n",
       "    </tr>\n",
       "    <tr>\n",
       "      <th>6492</th>\n",
       "      <td>Leave Before You Love Me</td>\n",
       "      <td>Marshmello &amp; Jonas Brothers</td>\n",
       "      <td>2021</td>\n",
       "      <td>top-100-songs</td>\n",
       "    </tr>\n",
       "    <tr>\n",
       "      <th>6493</th>\n",
       "      <td>Beggin</td>\n",
       "      <td>Maneskin</td>\n",
       "      <td>2021</td>\n",
       "      <td>top-100-songs</td>\n",
       "    </tr>\n",
       "    <tr>\n",
       "      <th>6494</th>\n",
       "      <td>Famous Friends</td>\n",
       "      <td>Chris Young + Kane Brown</td>\n",
       "      <td>2021</td>\n",
       "      <td>top-100-songs</td>\n",
       "    </tr>\n",
       "    <tr>\n",
       "      <th>6495</th>\n",
       "      <td>Lil Bit</td>\n",
       "      <td>Nelly &amp; Florida Georgia Line</td>\n",
       "      <td>2021</td>\n",
       "      <td>top-100-songs</td>\n",
       "    </tr>\n",
       "    <tr>\n",
       "      <th>6496</th>\n",
       "      <td>Thot Shit</td>\n",
       "      <td>Megan Thee Stallion</td>\n",
       "      <td>2021</td>\n",
       "      <td>top-100-songs</td>\n",
       "    </tr>\n",
       "  </tbody>\n",
       "</table>\n",
       "<p>6497 rows × 4 columns</p>\n",
       "</div>"
      ],
      "text/plain": [
       "                                  title                        artist  \\\n",
       "0                 Rock Around the Clock       Bill Haley & his Comets   \n",
       "1                          Sixteen Tons          Tennessee Ernie Ford   \n",
       "2     Cherry Pink & Apple Blossom White                   Perez Prado   \n",
       "3              Only You (And You Alone)                  The Platters   \n",
       "4      Love is a Many Splendoured Thing                     Four Aces   \n",
       "...                                 ...                           ...   \n",
       "6492           Leave Before You Love Me   Marshmello & Jonas Brothers   \n",
       "6493                             Beggin                      Maneskin   \n",
       "6494                     Famous Friends      Chris Young + Kane Brown   \n",
       "6495                            Lil Bit  Nelly & Florida Georgia Line   \n",
       "6496                          Thot Shit           Megan Thee Stallion   \n",
       "\n",
       "      entrance_year          genre  \n",
       "0              1955  top-100-songs  \n",
       "1              1955  top-100-songs  \n",
       "2              1955  top-100-songs  \n",
       "3              1955  top-100-songs  \n",
       "4              1955  top-100-songs  \n",
       "...             ...            ...  \n",
       "6492           2021  top-100-songs  \n",
       "6493           2021  top-100-songs  \n",
       "6494           2021  top-100-songs  \n",
       "6495           2021  top-100-songs  \n",
       "6496           2021  top-100-songs  \n",
       "\n",
       "[6497 rows x 4 columns]"
      ]
     },
     "execution_count": 3,
     "metadata": {},
     "output_type": "execute_result"
    }
   ],
   "source": [
    "tracklist=pd.read_csv('chartlist.csv')\n",
    "tops=tracklist[tracklist.genre == 'top-100-songs']\n",
    "\n",
    "tops.entrance_year.unique()\n",
    "tops"
   ]
  },
  {
   "cell_type": "code",
   "execution_count": null,
   "metadata": {},
   "outputs": [],
   "source": [
    "\n",
    "results=sp.search(q=('Rock Around the Clock','Bill Haley & his Comets'))\n",
    "results.keys()"
   ]
  },
  {
   "cell_type": "code",
   "execution_count": null,
   "metadata": {},
   "outputs": [],
   "source": [
    "results['tracks']['items'][0]"
   ]
  },
  {
   "cell_type": "code",
   "execution_count": 24,
   "metadata": {},
   "outputs": [],
   "source": [
    "from random import randint\n",
    "from time import sleep\n",
    "import socket\n",
    "def get_song_feature(title,artist):\n",
    "    try:\n",
    "        results=sp.search(q=(title,artist))\n",
    "        if results['tracks']['items'] !=[]:\n",
    "            uri=results['tracks']['items'][0]['uri']\n",
    "            features=sp.audio_features(uri)[0]\n",
    "            if type(features)==dict:\n",
    "                artists=[]\n",
    "                for a in results['tracks']['items'][0]['artists']:\n",
    "                    artists.append(a['name'])\n",
    "                features['artist']=artists\n",
    "                features['name']=results['tracks']['items'][0]['name']\n",
    "                return features\n",
    "    except socket.timeout:\n",
    "        print('next')\n"
   ]
  },
  {
   "cell_type": "code",
   "execution_count": 25,
   "metadata": {},
   "outputs": [],
   "source": [
    "def listmaker(songs):\n",
    "    songslist=[]\n",
    "    display(songs.head())\n",
    "    for x in range(1):#len(songs)):\n",
    "        output=get_song_feature(songs.title[x],songs.artist[x])\n",
    "        if type(output) == dict:\n",
    "            songslist.append(output)\n",
    "        if x % 100 == 99:\n",
    "            ti=randint(1,7)\n",
    "            sleep(ti)\n",
    "            print(songs.entrance_year[x],ti)\n",
    "    return pd.DataFrame(songslist)\n",
    "popsongs=listmaker(tops)"
   ]
  },
  {
   "cell_type": "markdown",
   "metadata": {},
   "source": [
    "Remove all empty values (which are not dictionaries)"
   ]
  },
  {
   "cell_type": "code",
   "execution_count": null,
   "metadata": {},
   "outputs": [],
   "source": [
    "popsongs1=[x for x in popsongs if isinstance(x,dict)]"
   ]
  },
  {
   "cell_type": "markdown",
   "metadata": {},
   "source": [
    "Make Dataframe"
   ]
  },
  {
   "cell_type": "code",
   "execution_count": null,
   "metadata": {},
   "outputs": [],
   "source": [
    "popsongs2=pd.DataFrame(popsongs1)\n",
    "popsongs2.to_csv('hitlist_cluster.csv',index=False)"
   ]
  },
  {
   "cell_type": "markdown",
   "metadata": {},
   "source": [
    "Try RockList"
   ]
  },
  {
   "cell_type": "code",
   "execution_count": 4,
   "metadata": {},
   "outputs": [],
   "source": [
    "# rock=tracklist[tracklist.genre == 'rock'].reset_index(drop=True)\n",
    "# #display(rock.head())\n",
    "# rocklist=listmaker(rock)\n",
    "# rocklist.head()\n",
    "results=sp.search(q=('Tutti-Frutti','Little Richard'))\n",
    "results\n"
   ]
  }
 ],
 "metadata": {
  "interpreter": {
   "hash": "e956ae00da0b923c53eac0ba781c2d63e37e4818bc4e157197045199dda01c2a"
  },
  "kernelspec": {
   "display_name": "Python 3.9.7 ('base')",
   "language": "python",
   "name": "python3"
  },
  "language_info": {
   "codemirror_mode": {
    "name": "ipython",
    "version": 3
   },
   "file_extension": ".py",
   "mimetype": "text/x-python",
   "name": "python",
   "nbconvert_exporter": "python",
   "pygments_lexer": "ipython3",
   "version": "3.9.7"
  },
  "orig_nbformat": 4
 },
 "nbformat": 4,
 "nbformat_minor": 2
}
